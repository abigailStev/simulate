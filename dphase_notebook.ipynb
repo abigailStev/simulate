{
 "cells": [
  {
   "cell_type": "code",
   "execution_count": 14,
   "metadata": {
    "collapsed": false
   },
   "outputs": [
    {
     "name": "stdout",
     "output_type": "stream",
     "text": [
      "(3, 5532)\n"
     ]
    }
   ],
   "source": [
    "import numpy as np\n",
    "\n",
    "phase_points_file = \"1BB-FS-G-Tin-fzs-fzNbb_phasepoints.txt\"\n",
    "phase_points = np.loadtxt(phase_points_file)\n",
    "print np.shape(phase_points)\n",
    "# Should be PL gamma, PL norm, BB temp"
   ]
  },
  {
   "cell_type": "code",
   "execution_count": 15,
   "metadata": {
    "collapsed": false
   },
   "outputs": [
    {
     "name": "stdout",
     "output_type": "stream",
     "text": [
      "[-0.18177172 -0.20986447  0.10792504]\n",
      "[ 0.00888507  0.00430964  0.01712994]\n"
     ]
    }
   ],
   "source": [
    "mean_phase = np.mean(phase_points, axis=1)\n",
    "err_phase = np.sqrt(np.var(phase_points, axis=1, ddof=1))\n",
    "print mean_phase\n",
    "print err_phase"
   ]
  },
  {
   "cell_type": "code",
   "execution_count": 16,
   "metadata": {
    "collapsed": false
   },
   "outputs": [
    {
     "name": "stdout",
     "output_type": "stream",
     "text": [
      "0.028 +- 0.0052\n",
      "0.318 +- 0.0154\n"
     ]
    }
   ],
   "source": [
    "dphase_gamma = np.abs(phase_points[1,:] - phase_points[0,:])\n",
    "dphase_bbody = np.abs(phase_points[1,:] - phase_points[2,:])\n",
    "mean_dphase_gamma = np.mean(dphase_gamma)\n",
    "mean_dphase_bbody = np.mean(dphase_bbody)\n",
    "err_dphase_gamma = np.sqrt(np.var(dphase_gamma, ddof=1))\n",
    "err_dphase_bbody = np.sqrt(np.var(dphase_bbody, ddof=1))\n",
    "\n",
    "print \"%.3f +- %.4f\" % (mean_dphase_gamma, err_dphase_gamma)\n",
    "print \"%.3f +- %.4f\" % (mean_dphase_bbody, err_dphase_bbody)"
   ]
  },
  {
   "cell_type": "code",
   "execution_count": null,
   "metadata": {
    "collapsed": true
   },
   "outputs": [],
   "source": []
  }
 ],
 "metadata": {
  "kernelspec": {
   "display_name": "Python 2",
   "language": "python",
   "name": "python2"
  },
  "language_info": {
   "codemirror_mode": {
    "name": "ipython",
    "version": 2
   },
   "file_extension": ".py",
   "mimetype": "text/x-python",
   "name": "python",
   "nbconvert_exporter": "python",
   "pygments_lexer": "ipython2",
   "version": "2.7.11"
  }
 },
 "nbformat": 4,
 "nbformat_minor": 0
}
