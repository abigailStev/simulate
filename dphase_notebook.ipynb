{
 "cells": [
  {
   "cell_type": "code",
   "execution_count": 1,
   "metadata": {
    "collapsed": false
   },
   "outputs": [
    {
     "name": "stdout",
     "output_type": "stream",
     "text": [
      "(3, 5530)\n"
     ]
    }
   ],
   "source": [
    "import numpy as np\n",
    "import matplotlib.font_manager as font_manager\n",
    "import matplotlib.pyplot as plt\n",
    "from matplotlib.ticker import MultipleLocator\n",
    "## Shows the plots inline, instead of in a separate window:\n",
    "%matplotlib inline\n",
    "\n",
    "# fit_identifier=\"2BB-FS-G-kT-fzs-fzNbb8857-2\"\n",
    "# title = \"PHABS$\\\\times$ (SIMPLER * DISKBB + BBODYRAD + GAUSS)\"\n",
    "# fit_identifier=\"1BB-FS-G-Tin-fzs-fzNbb\"\n",
    "# title = \"PHABS$\\\\times$ (SIMPLER * DISKBB + GAUSS)\"\n",
    "fit_identifier=\"pBB-FS-G-p-fzs-fzNbb\"\n",
    "title = \"PHABS$\\\\times$ (SIMPLER * DISKPBB + GAUSS)\"\n",
    "\n",
    "phase_points_file = fit_identifier + \"_phasepoints.txt\"\n",
    "plot_file = \"/Users/abigailstevens/Dropbox/Research/CCF_paper1/GX339-BQPO_151204_\" + fit_identifier + \"_dphase_hist.eps\"\n",
    "phase_points = np.loadtxt(phase_points_file)\n",
    "print np.shape(phase_points)\n",
    "# Should be PL gamma, PL norm, BB temp"
   ]
  },
  {
   "cell_type": "code",
   "execution_count": 2,
   "metadata": {
    "collapsed": false
   },
   "outputs": [
    {
     "name": "stdout",
     "output_type": "stream",
     "text": [
      "[-0.16963587 -0.20471191  0.09312934]\n",
      "[ 0.00598019  0.00327181  0.01648605]\n"
     ]
    }
   ],
   "source": [
    "mean_phase = np.mean(phase_points, axis=1)\n",
    "err_phase = np.sqrt(np.var(phase_points, axis=1, ddof=1))\n",
    "print mean_phase\n",
    "print err_phase"
   ]
  },
  {
   "cell_type": "code",
   "execution_count": 3,
   "metadata": {
    "collapsed": false
   },
   "outputs": [
    {
     "name": "stdout",
     "output_type": "stream",
     "text": [
      "Gamma dphase: 0.0351 +- 0.00356\n",
      "BBody dphase: 0.2978 +- 0.01519\n"
     ]
    }
   ],
   "source": [
    "dphase_gamma = phase_points[0,:] - phase_points[1,:]\n",
    "dphase_bbody = phase_points[2,:] - phase_points[1,:]\n",
    "mean_dphase_gamma = np.mean(dphase_gamma)\n",
    "mean_dphase_bbody = np.mean(dphase_bbody)\n",
    "err_dphase_gamma = np.sqrt(np.var(dphase_gamma, ddof=1))\n",
    "err_dphase_bbody = np.sqrt(np.var(dphase_bbody, ddof=1))\n",
    "\n",
    "print \"Gamma dphase: %.4f +- %.5f\" % (mean_dphase_gamma, err_dphase_gamma)\n",
    "print \"BBody dphase: %.4f +- %.5f\" % (mean_dphase_bbody, err_dphase_bbody)"
   ]
  },
  {
   "cell_type": "code",
   "execution_count": 10,
   "metadata": {
    "collapsed": false
   },
   "outputs": [
    {
     "data": {
      "image/png": "[encoded data removed]",
      "text/plain": [
       "<matplotlib.figure.Figure at 0x10b1da910>"
      ]
     },
     "metadata": {},
     "output_type": "display_data"
    }
   ],
   "source": [
    "xLocator = MultipleLocator(0.02)  ## loc of minor ticks on x-axis\n",
    "font_prop = font_manager.FontProperties(size=20)\n",
    "\n",
    "fig, ax = plt.subplots(1, 1, figsize=(10, 7.5), dpi=300, tight_layout=True)\n",
    "bins_1, edges_1, patches_1 = ax.hist(dphase_gamma, bins=100, range=[0, 1],\n",
    "        facecolor='red')\n",
    "bins_2, edges_2, patches_2 = ax.hist(dphase_bbody, bins=100, range=[0, 1],\n",
    "        facecolor='blue')\n",
    "ax.hlines(500, mean_dphase_bbody-err_dphase_bbody, mean_dphase_bbody+err_dphase_bbody, color='green', lw=4)\n",
    "ax.set_xlabel(r'$\\Delta$ Normalized parameter phase',\n",
    "        fontproperties=font_prop)\n",
    "ax.set_ylabel('Bootstrap iterations', fontproperties=font_prop)\n",
    "ax.set_xlim(0, 0.41)\n",
    "ax.set_ylim(0, 5000)\n",
    "ax.set_xticks(np.arange(0, 0.41, 0.1))\n",
    "ax.xaxis.set_minor_locator(xLocator)\n",
    "ax.tick_params(axis='x', labelsize=18)\n",
    "ax.tick_params(axis='y', labelsize=18)\n",
    "ax.set_title(r'%s' % title, fontproperties=font_prop)\n",
    "plt.savefig(plot_file)\n",
    "plt.show()"
   ]
  },
  {
   "cell_type": "code",
   "execution_count": null,
   "metadata": {
    "collapsed": true
   },
   "outputs": [],
   "source": []
  },
  {
   "cell_type": "code",
   "execution_count": null,
   "metadata": {
    "collapsed": true
   },
   "outputs": [],
   "source": []
  }
 ],
 "metadata": {
  "kernelspec": {
   "display_name": "Python 2",
   "language": "python",
   "name": "python2"
  },
  "language_info": {
   "codemirror_mode": {
    "name": "ipython",
    "version": 2
   },
   "file_extension": ".py",
   "mimetype": "text/x-python",
   "name": "python",
   "nbconvert_exporter": "python",
   "pygments_lexer": "ipython2",
   "version": "2.7.10"
  }
 },
 "nbformat": 4,
 "nbformat_minor": 0
}
